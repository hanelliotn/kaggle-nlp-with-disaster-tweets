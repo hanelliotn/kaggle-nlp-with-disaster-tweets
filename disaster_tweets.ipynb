{
 "cells": [
  {
   "attachments": {},
   "cell_type": "markdown",
   "metadata": {},
   "source": [
    "# Kaggle - Natural Language Processing with Disaster Tweets\n",
    "\n",
    "This Python Notebook is to train and validate the datasets to detect whether or \n",
    "not a tweet from Twitter is a disastrous tweet.\n",
    "\n",
    "Author: Han-Elliot Nguyen<br>Email: hanelliotn@gmail.com\n",
    "\n",
    "Start date: July 5, 2023<br>End date: TBA"
   ]
  }
 ],
 "metadata": {
  "language_info": {
   "name": "python"
  },
  "orig_nbformat": 4
 },
 "nbformat": 4,
 "nbformat_minor": 2
}
